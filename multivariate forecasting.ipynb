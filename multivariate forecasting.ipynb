{
 "cells": [
  {
   "cell_type": "code",
   "execution_count": null,
   "metadata": {
    "scrolled": false
   },
   "outputs": [],
   "source": [
    "import pandas as pd\n",
    "import numpy as np\n",
    "import sys \n",
    "sys.path.insert(1, 'c:/xxx')\n",
    "from eda import eda\n",
    "df=pd.read_csv('c:/xxx/assessment_input.csv')\n",
    "df = df.drop(df.columns[-1],axis=1)\n",
    "df['Time'] = pd.to_datetime(df['Time'],format='%d/%m/%Y %H:%M') #28/04/2009 0:00\n",
    "df.replace('#VALUE!',np.nan, inplace=True)\n",
    "skiplist=['Time','PLANT']\n",
    "\n",
    "\n",
    "###FOR PLANT D05####\n",
    "df=df[df['PLANT']=='P05']\n",
    "\n",
    "for i in df.columns:\n",
    "   if i not in skiplist:\n",
    "      df[i]=pd.to_numeric(df[i], errors='coerce')\n",
    "      df[i].fillna(value=df[i].mean(), inplace=True)\n",
    "      df[i].replace(0, value=df[i].mean(), inplace=True)\n",
    "    #data=data.replace(0,mean_artist_hotness) \n",
    "\n",
    "# df['D']=pd.to_numeric(df['D'], errors='coerce')\n",
    "# df['D'].fillna(value=df['D'].mean(), inplace=True)    \n",
    "df"
   ]
  },
  {
   "cell_type": "code",
   "execution_count": null,
   "metadata": {
    "scrolled": true
   },
   "outputs": [],
   "source": [
    "#df.to_csv('c:/xxx/df_p05.csv')\n",
    "eda(df)"
   ]
  },
  {
   "cell_type": "code",
   "execution_count": null,
   "metadata": {
    "scrolled": false
   },
   "outputs": [],
   "source": [
    "import pandas as pd\n",
    "import matplotlib.pyplot as plt\n",
    "import numpy as np\n",
    "\n",
    "figsize=(10,5)\n",
    "for s in df.columns:\n",
    "    if s not in skiplist:\n",
    "        if s=='DOSE':\n",
    "            ax=df.plot(x='Time',y=s,figsize=(20,10), label=s)\n",
    "        else:\n",
    "            df.plot(x='Time',y=s,ax=ax)\n",
    "\n",
    "plt.show()\n"
   ]
  },
  {
   "cell_type": "code",
   "execution_count": null,
   "metadata": {},
   "outputs": [],
   "source": [
    "data =df.drop(['Time'],axis=1)\n",
    "data.index=df['Time']"
   ]
  },
  {
   "cell_type": "code",
   "execution_count": null,
   "metadata": {},
   "outputs": [],
   "source": [
    "from statsmodels.tsa.vector_ar.vecm import coint_johansen\n",
    "data1=data.drop(['PLANT'],axis=1)\n",
    "np.around(coint_johansen(data1,-1,1).eig,3)"
   ]
  },
  {
   "cell_type": "code",
   "execution_count": null,
   "metadata": {},
   "outputs": [],
   "source": [
    "#creating the train and validation set\n",
    "train = data1[:int(0.8*(len(data1)))].astype(float)\n",
    "valid = data1[int(0.8*(len(data1))):].astype(float)\n",
    "\n",
    "#fit the model\n",
    "from statsmodels.tsa.vector_ar.var_model import VAR\n",
    "\n",
    "model = VAR(endog=train)\n",
    "model_fit = model.fit()\n",
    "\n",
    "# make prediction on validation\n",
    "prediction = model_fit.forecast(model_fit.y, steps=len(valid))"
   ]
  },
  {
   "cell_type": "code",
   "execution_count": null,
   "metadata": {},
   "outputs": [],
   "source": [
    "from math import sqrt\n",
    "from sklearn.metrics import mean_squared_error\n",
    "#converting predictions to dataframe\n",
    "cols = data1.columns\n",
    "pred = pd.DataFrame(index=range(0,len(prediction)),columns=[cols])\n",
    "for j in range(0,11):\n",
    "    for i in range(0, len(prediction)):\n",
    "       pred.iloc[i][j] = prediction[i][j]\n",
    "\n",
    "#check rmse\n",
    "for i in cols:\n",
    "    print('rmse value for', i, 'is : ', sqrt(mean_squared_error(pred[i], valid[i])))"
   ]
  },
  {
   "cell_type": "code",
   "execution_count": null,
   "metadata": {
    "scrolled": true
   },
   "outputs": [],
   "source": [
    "#make final predictions\n",
    "forecast_time = 200\n",
    "model = VAR(endog=data1)\n",
    "model_fit = model.fit()\n",
    "yhat = model_fit.forecast(model_fit.y, steps=forecast_time)\n",
    "print(yhat)"
   ]
  },
  {
   "cell_type": "code",
   "execution_count": null,
   "metadata": {},
   "outputs": [],
   "source": [
    "#https://www.analyticsvidhya.com/blog/2018/09/multivariate-time-series-guide-forecasting-modeling-python-codes/"
   ]
  },
  {
   "cell_type": "code",
   "execution_count": null,
   "metadata": {
    "scrolled": true
   },
   "outputs": [],
   "source": [
    "from IPython.core.display import display, HTML\n",
    "display(HTML(\"<style>.container { width:100% !important; }</style>\"))\n",
    "np.set_printoptions(linewidth=200)\n",
    "yhat"
   ]
  },
  {
   "cell_type": "code",
   "execution_count": null,
   "metadata": {
    "scrolled": true
   },
   "outputs": [],
   "source": [
    "pred_df=pd.DataFrame(yhat)\n",
    "pred_df.columns=cols\n",
    "idx=data1.tail().index[0]\n",
    "newlist=[]\n",
    "\n",
    "for i in range(0,forecast_time):\n",
    "     idx = idx + pd.Timedelta('12hour')\n",
    "     newlist.append(idx)\n",
    "\n",
    "pred_df['Time']=newlist\n",
    "pred_df.index=pred_df['Time']\n",
    "pred_df.drop(['Time'], axis=1)\n",
    "pred_df\n"
   ]
  },
  {
   "cell_type": "code",
   "execution_count": null,
   "metadata": {},
   "outputs": [],
   "source": [
    "#plot data1 + pred_df\n",
    "#highlight from pred_df.start to end\n",
    "fig = plt.figure(figsize=(20,5))\n",
    "ax  = fig.add_subplot(111)\n",
    "fig.suptitle('Actual vs Predict for DOSE')\n",
    "# plt.plot(data1['DOSE'], label='actual')\n",
    "# plt.plot(pred_df['DOSE'], label='predict')\n",
    "ax =  data1.plot(y='DOSE',ax=ax, label='Actual')\n",
    "ax = pred_df.plot(y='DOSE',ax=ax, label='Predict')\n"
   ]
  },
  {
   "cell_type": "code",
   "execution_count": null,
   "metadata": {
    "scrolled": false
   },
   "outputs": [],
   "source": [
    "import pandas as pd\n",
    "import matplotlib.pyplot as plt\n",
    "import numpy as np\n",
    "\n",
    "figsize=(20,10)\n",
    "for s in data1.columns:\n",
    "    if s not in skiplist:\n",
    "        if s=='DOSE':\n",
    "            ax = data1.plot(y=s, label=s + ' Actual')\n",
    "            ax = pred_df.plot(y=s,ax=ax, label=s + ' Predict')\n",
    "        else:\n",
    "            ax = data1.plot(y=s, label=s + ' Actual')\n",
    "            ax = pred_df.plot(y=s,ax=ax, label=s + ' Predict')\n",
    "\n",
    "plt.show()"
   ]
  },
  {
   "cell_type": "code",
   "execution_count": null,
   "metadata": {},
   "outputs": [],
   "source": []
  },
  {
   "cell_type": "code",
   "execution_count": null,
   "metadata": {},
   "outputs": [],
   "source": []
  }
 ],
 "metadata": {
  "kernelspec": {
   "display_name": "Python 3",
   "language": "python",
   "name": "python3"
  },
  "language_info": {
   "codemirror_mode": {
    "name": "ipython",
    "version": 3
   },
   "file_extension": ".py",
   "mimetype": "text/x-python",
   "name": "python",
   "nbconvert_exporter": "python",
   "pygments_lexer": "ipython3",
   "version": "3.7.6"
  }
 },
 "nbformat": 4,
 "nbformat_minor": 5
}
